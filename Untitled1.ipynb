{
  "nbformat": 4,
  "nbformat_minor": 0,
  "metadata": {
    "colab": {
      "provenance": [],
      "authorship_tag": "ABX9TyNYQhh3odtvoxkwEUTriRx4",
      "include_colab_link": true
    },
    "kernelspec": {
      "name": "python3",
      "display_name": "Python 3"
    },
    "language_info": {
      "name": "python"
    }
  },
  "cells": [
    {
      "cell_type": "markdown",
      "metadata": {
        "id": "view-in-github",
        "colab_type": "text"
      },
      "source": [
        "<a href=\"https://colab.research.google.com/github/h94j3urp4/AI-2025/blob/main/Untitled1.ipynb\" target=\"_parent\"><img src=\"https://colab.research.google.com/assets/colab-badge.svg\" alt=\"Open In Colab\"/></a>"
      ]
    },
    {
      "cell_type": "code",
      "execution_count": 1,
      "metadata": {
        "colab": {
          "base_uri": "https://localhost:8080/"
        },
        "id": "S_0mpQrbcFiF",
        "outputId": "859f6430-c2c1-4151-f5ff-0cd8921923a8"
      },
      "outputs": [
        {
          "output_type": "stream",
          "name": "stdout",
          "text": [
            "                                  2025\n",
            "\n",
            "      January                   February                   March\n",
            "Mo Tu We Th Fr Sa Su      Mo Tu We Th Fr Sa Su      Mo Tu We Th Fr Sa Su\n",
            "       1  2  3  4  5                      1  2                      1  2\n",
            " 6  7  8  9 10 11 12       3  4  5  6  7  8  9       3  4  5  6  7  8  9\n",
            "13 14 15 16 17 18 19      10 11 12 13 14 15 16      10 11 12 13 14 15 16\n",
            "20 21 22 23 24 25 26      17 18 19 20 21 22 23      17 18 19 20 21 22 23\n",
            "27 28 29 30 31            24 25 26 27 28            24 25 26 27 28 29 30\n",
            "                                                    31\n",
            "\n",
            "       April                      May                       June\n",
            "Mo Tu We Th Fr Sa Su      Mo Tu We Th Fr Sa Su      Mo Tu We Th Fr Sa Su\n",
            "    1  2  3  4  5  6                1  2  3  4                         1\n",
            " 7  8  9 10 11 12 13       5  6  7  8  9 10 11       2  3  4  5  6  7  8\n",
            "14 15 16 17 18 19 20      12 13 14 15 16 17 18       9 10 11 12 13 14 15\n",
            "21 22 23 24 25 26 27      19 20 21 22 23 24 25      16 17 18 19 20 21 22\n",
            "28 29 30                  26 27 28 29 30 31         23 24 25 26 27 28 29\n",
            "                                                    30\n",
            "\n",
            "        July                     August                  September\n",
            "Mo Tu We Th Fr Sa Su      Mo Tu We Th Fr Sa Su      Mo Tu We Th Fr Sa Su\n",
            "    1  2  3  4  5  6                   1  2  3       1  2  3  4  5  6  7\n",
            " 7  8  9 10 11 12 13       4  5  6  7  8  9 10       8  9 10 11 12 13 14\n",
            "14 15 16 17 18 19 20      11 12 13 14 15 16 17      15 16 17 18 19 20 21\n",
            "21 22 23 24 25 26 27      18 19 20 21 22 23 24      22 23 24 25 26 27 28\n",
            "28 29 30 31               25 26 27 28 29 30 31      29 30\n",
            "\n",
            "      October                   November                  December\n",
            "Mo Tu We Th Fr Sa Su      Mo Tu We Th Fr Sa Su      Mo Tu We Th Fr Sa Su\n",
            "       1  2  3  4  5                      1  2       1  2  3  4  5  6  7\n",
            " 6  7  8  9 10 11 12       3  4  5  6  7  8  9       8  9 10 11 12 13 14\n",
            "13 14 15 16 17 18 19      10 11 12 13 14 15 16      15 16 17 18 19 20 21\n",
            "20 21 22 23 24 25 26      17 18 19 20 21 22 23      22 23 24 25 26 27 28\n",
            "27 28 29 30 31            24 25 26 27 28 29 30      29 30 31\n",
            "\n"
          ]
        }
      ],
      "source": [
        "# Demo 1 : Using the built-in calendar module\n",
        "import calendar                         # import standard library\n",
        "year = 2025                             # target year\n",
        "print(calendar.calendar(year))          # pretty print full calendar\n"
      ]
    },
    {
      "cell_type": "code",
      "source": [
        "import calendar, datetime               # load modules\n",
        "year = datetime.datetime.now().year     # current system year\n",
        "print(calendar.month(year, 1))          # show a month only\n"
      ],
      "metadata": {
        "colab": {
          "base_uri": "https://localhost:8080/"
        },
        "id": "NXIzv17XcQh0",
        "outputId": "7eaf7c0c-20f1-444f-80d9-aa839447d4a4"
      },
      "execution_count": 2,
      "outputs": [
        {
          "output_type": "stream",
          "name": "stdout",
          "text": [
            "    January 2025\n",
            "Mo Tu We Th Fr Sa Su\n",
            "       1  2  3  4  5\n",
            " 6  7  8  9 10 11 12\n",
            "13 14 15 16 17 18 19\n",
            "20 21 22 23 24 25 26\n",
            "27 28 29 30 31\n",
            "\n"
          ]
        }
      ]
    },
    {
      "cell_type": "code",
      "source": [
        "import calendar\n",
        "year = int(input(\"Enter any year: \"))   # ask user\n",
        "print(calendar.calendar(year))\n"
      ],
      "metadata": {
        "colab": {
          "base_uri": "https://localhost:8080/"
        },
        "id": "Anzz2irAcYmc",
        "outputId": "319df2a3-b760-4592-b772-5755844f0eb6"
      },
      "execution_count": 3,
      "outputs": [
        {
          "output_type": "stream",
          "name": "stdout",
          "text": [
            "Enter any year: 2005\n",
            "                                  2005\n",
            "\n",
            "      January                   February                   March\n",
            "Mo Tu We Th Fr Sa Su      Mo Tu We Th Fr Sa Su      Mo Tu We Th Fr Sa Su\n",
            "                1  2          1  2  3  4  5  6          1  2  3  4  5  6\n",
            " 3  4  5  6  7  8  9       7  8  9 10 11 12 13       7  8  9 10 11 12 13\n",
            "10 11 12 13 14 15 16      14 15 16 17 18 19 20      14 15 16 17 18 19 20\n",
            "17 18 19 20 21 22 23      21 22 23 24 25 26 27      21 22 23 24 25 26 27\n",
            "24 25 26 27 28 29 30      28                        28 29 30 31\n",
            "31\n",
            "\n",
            "       April                      May                       June\n",
            "Mo Tu We Th Fr Sa Su      Mo Tu We Th Fr Sa Su      Mo Tu We Th Fr Sa Su\n",
            "             1  2  3                         1             1  2  3  4  5\n",
            " 4  5  6  7  8  9 10       2  3  4  5  6  7  8       6  7  8  9 10 11 12\n",
            "11 12 13 14 15 16 17       9 10 11 12 13 14 15      13 14 15 16 17 18 19\n",
            "18 19 20 21 22 23 24      16 17 18 19 20 21 22      20 21 22 23 24 25 26\n",
            "25 26 27 28 29 30         23 24 25 26 27 28 29      27 28 29 30\n",
            "                          30 31\n",
            "\n",
            "        July                     August                  September\n",
            "Mo Tu We Th Fr Sa Su      Mo Tu We Th Fr Sa Su      Mo Tu We Th Fr Sa Su\n",
            "             1  2  3       1  2  3  4  5  6  7                1  2  3  4\n",
            " 4  5  6  7  8  9 10       8  9 10 11 12 13 14       5  6  7  8  9 10 11\n",
            "11 12 13 14 15 16 17      15 16 17 18 19 20 21      12 13 14 15 16 17 18\n",
            "18 19 20 21 22 23 24      22 23 24 25 26 27 28      19 20 21 22 23 24 25\n",
            "25 26 27 28 29 30 31      29 30 31                  26 27 28 29 30\n",
            "\n",
            "      October                   November                  December\n",
            "Mo Tu We Th Fr Sa Su      Mo Tu We Th Fr Sa Su      Mo Tu We Th Fr Sa Su\n",
            "                1  2          1  2  3  4  5  6                1  2  3  4\n",
            " 3  4  5  6  7  8  9       7  8  9 10 11 12 13       5  6  7  8  9 10 11\n",
            "10 11 12 13 14 15 16      14 15 16 17 18 19 20      12 13 14 15 16 17 18\n",
            "17 18 19 20 21 22 23      21 22 23 24 25 26 27      19 20 21 22 23 24 25\n",
            "24 25 26 27 28 29 30      28 29 30                  26 27 28 29 30 31\n",
            "31\n",
            "\n"
          ]
        }
      ]
    },
    {
      "cell_type": "code",
      "source": [
        "import calendar\n",
        "y, m, d = 2005, 2, 16                   # sample date\n",
        "weekday = calendar.weekday(y, m, d)     # 0=Mon … 6=Sun\n",
        "print(\"Weekday index :\", weekday)\n"
      ],
      "metadata": {
        "colab": {
          "base_uri": "https://localhost:8080/"
        },
        "id": "Lu2QvofLcdn4",
        "outputId": "605da300-5a36-4ad3-a12b-af16fc14c9a9"
      },
      "execution_count": 6,
      "outputs": [
        {
          "output_type": "stream",
          "name": "stdout",
          "text": [
            "Weekday index : 2\n"
          ]
        }
      ]
    },
    {
      "cell_type": "code",
      "source": [
        "# Demo 2 : Basic arithmetic\n",
        "a, b = 7, 3             # integers\n",
        "print(\"a + b =\", a + b) # addition\n",
        "print(\"a ** b =\", a ** b) # 2**10 = 2*2*...* 2 = 1024. exponent\n",
        "print(\"a / b  =\", a / b)  # float division\n",
        "print(\"a // b =\", a // b) # floor division\n",
        "print(\"a % b  =\", a % b)  # remainder\n"
      ],
      "metadata": {
        "colab": {
          "base_uri": "https://localhost:8080/"
        },
        "id": "aRUWORZYcvPh",
        "outputId": "6c70f304-5d37-47a4-9092-25e22df94c40"
      },
      "execution_count": 7,
      "outputs": [
        {
          "output_type": "stream",
          "name": "stdout",
          "text": [
            "a + b = 10\n",
            "a ** b = 343\n",
            "a / b  = 2.3333333333333335\n",
            "a // b = 2\n",
            "a % b  = 1\n"
          ]
        }
      ]
    },
    {
      "cell_type": "code",
      "source": [
        "c = float(input(\"Celsius: \"))\n",
        "f = c * 9/5 + 32\n",
        "print(c, \"°C =\", f, \"°F\")\n"
      ],
      "metadata": {
        "colab": {
          "base_uri": "https://localhost:8080/"
        },
        "id": "Cpu5Q6OYcyKs",
        "outputId": "67fa6d00-b7ba-4a13-b7b2-e552d476d56f"
      },
      "execution_count": 8,
      "outputs": [
        {
          "output_type": "stream",
          "name": "stdout",
          "text": [
            "Celsius: 12\n",
            "12.0 °C = 53.6 °F\n"
          ]
        }
      ]
    },
    {
      "cell_type": "code",
      "source": [
        "base = 10; height = 4\n",
        "area = 0.5 * base * height\n",
        "print(\"Area =\", area)\n"
      ],
      "metadata": {
        "colab": {
          "base_uri": "https://localhost:8080/"
        },
        "id": "pEb-etF4c3C6",
        "outputId": "293cc1c4-bab0-4d18-9ba1-d6783b7656df"
      },
      "execution_count": 9,
      "outputs": [
        {
          "output_type": "stream",
          "name": "stdout",
          "text": [
            "Area = 20.0\n"
          ]
        }
      ]
    },
    {
      "cell_type": "code",
      "source": [
        "num = 2\n",
        "for n in range(6):                     # 0‥5\n",
        "    print(f\"{num}^{n} =\", num**n)\n"
      ],
      "metadata": {
        "colab": {
          "base_uri": "https://localhost:8080/"
        },
        "id": "USV15TPpc4eb",
        "outputId": "1772e314-7e9c-4dfc-81c1-394e97abad93"
      },
      "execution_count": 10,
      "outputs": [
        {
          "output_type": "stream",
          "name": "stdout",
          "text": [
            "2^0 = 1\n",
            "2^1 = 2\n",
            "2^2 = 4\n",
            "2^3 = 8\n",
            "2^4 = 16\n",
            "2^5 = 32\n"
          ]
        }
      ]
    },
    {
      "cell_type": "code",
      "source": [
        "# 🛠 Write the C code into a file\n",
        "code = \"\"\"\n",
        "#include <stdio.h>\n",
        "\n",
        "int main() {\n",
        "    int i = 42;             // integer\n",
        "    float f = 3.14f;        // floating point number\n",
        "    char s[] = \"hello\";     // character array (string)\n",
        "\n",
        "    printf(\"Type of i: int, value = %d\\\\n\", i);\n",
        "    printf(\"Type of f: float, value = %.2f\\\\n\", f);\n",
        "    printf(\"Type of s: string (char array), value = %s\\\\n\", s);\n",
        "\n",
        "    return 0;\n",
        "}\n",
        "\"\"\"\n",
        "\n",
        "with open(\"types_demo.c\", \"w\") as file:\n",
        "    file.write(code)\n",
        "\n",
        "# ✅ Compile C code\n",
        "!gcc types_demo.c -o types_demo\n",
        "\n",
        "# ▶️ Execute C program\n",
        "!./types_demo\n"
      ],
      "metadata": {
        "colab": {
          "base_uri": "https://localhost:8080/"
        },
        "id": "p06I0-s2c9KG",
        "outputId": "a38e0cb9-9ac0-4997-8eaa-061706434d01"
      },
      "execution_count": 11,
      "outputs": [
        {
          "output_type": "stream",
          "name": "stdout",
          "text": [
            "Type of i: int, value = 42\n",
            "Type of f: float, value = 3.14\n",
            "Type of s: string (char array), value = hello\n"
          ]
        }
      ]
    },
    {
      "cell_type": "code",
      "source": [
        "# Demo 3 : Inspecting data types\n",
        "i = 42                # int\n",
        "f = 3.14              # float\n",
        "s = \"hello\"           # string\n",
        "print(type(i), type(f), type(s))\n"
      ],
      "metadata": {
        "colab": {
          "base_uri": "https://localhost:8080/"
        },
        "id": "uFNs8C41c_vs",
        "outputId": "25fdd94e-5107-4f8c-a382-2ffa42604fa0"
      },
      "execution_count": 12,
      "outputs": [
        {
          "output_type": "stream",
          "name": "stdout",
          "text": [
            "<class 'int'> <class 'float'> <class 'str'>\n"
          ]
        }
      ]
    },
    {
      "cell_type": "code",
      "source": [
        "data = [123, 4.5, True, \"hi\", None]\n",
        "for item in data:\n",
        "    print(item, \"→\", type(item))\n"
      ],
      "metadata": {
        "colab": {
          "base_uri": "https://localhost:8080/"
        },
        "id": "srQmB5KwdBin",
        "outputId": "501334fb-6116-4c2d-bdd7-35c8b924f97a"
      },
      "execution_count": 13,
      "outputs": [
        {
          "output_type": "stream",
          "name": "stdout",
          "text": [
            "123 → <class 'int'>\n",
            "4.5 → <class 'float'>\n",
            "True → <class 'bool'>\n",
            "hi → <class 'str'>\n",
            "None → <class 'NoneType'>\n"
          ]
        }
      ]
    },
    {
      "cell_type": "code",
      "source": [
        "print(True + True, False * 10)         # bool behaves like 1 / 0\n"
      ],
      "metadata": {
        "colab": {
          "base_uri": "https://localhost:8080/"
        },
        "id": "PQbLm6andC33",
        "outputId": "598a7385-a62a-436d-8290-41bddd78f904"
      },
      "execution_count": 14,
      "outputs": [
        {
          "output_type": "stream",
          "name": "stdout",
          "text": [
            "2 0\n"
          ]
        }
      ]
    },
    {
      "cell_type": "code",
      "source": [
        "s = \"123\"\n",
        "n = int(s)            # casting\n",
        "print(n, n + 10)\n"
      ],
      "metadata": {
        "colab": {
          "base_uri": "https://localhost:8080/"
        },
        "id": "JU04NKBcdEQM",
        "outputId": "8753c410-9e39-4e41-c424-8bde814c0964"
      },
      "execution_count": 15,
      "outputs": [
        {
          "output_type": "stream",
          "name": "stdout",
          "text": [
            "123 133\n"
          ]
        }
      ]
    },
    {
      "cell_type": "code",
      "source": [
        "# Demo 4 : if / elif / else\n",
        "score = 85\n",
        "if score >= 90:\n",
        "    grade = \"A\"\n",
        "elif score >= 80:\n",
        "    grade = \"B\"\n",
        "else:\n",
        "    grade = \"C\"\n",
        "print(\"Grade =\", grade)\n"
      ],
      "metadata": {
        "colab": {
          "base_uri": "https://localhost:8080/"
        },
        "id": "QGwR_qXkdFLz",
        "outputId": "8d2a8e66-53b5-4daf-fcd9-523bda4907a8"
      },
      "execution_count": 16,
      "outputs": [
        {
          "output_type": "stream",
          "name": "stdout",
          "text": [
            "Grade = B\n"
          ]
        }
      ]
    },
    {
      "cell_type": "code",
      "source": [
        "n = int(input(\"Number: \"))\n",
        "print(\"Even\" if n % 2 == 0 else \"Odd\")\n"
      ],
      "metadata": {
        "colab": {
          "base_uri": "https://localhost:8080/"
        },
        "id": "-GrKoxdHdGwv",
        "outputId": "e24ce288-02a4-47d6-ccb1-8cdeced11654"
      },
      "execution_count": 17,
      "outputs": [
        {
          "output_type": "stream",
          "name": "stdout",
          "text": [
            "Number: 23\n",
            "Odd\n"
          ]
        }
      ]
    },
    {
      "cell_type": "code",
      "source": [
        "password = \"python\"\n",
        "user = input(\"Enter password: \")\n",
        "if user == password:\n",
        "    print(\"Access granted\")\n",
        "else:\n",
        "    print(\"Denied\")\n"
      ],
      "metadata": {
        "colab": {
          "base_uri": "https://localhost:8080/"
        },
        "id": "uQh23mDMdJe-",
        "outputId": "a99767aa-cd63-4a7b-a325-4e3fe317dbe2"
      },
      "execution_count": 18,
      "outputs": [
        {
          "output_type": "stream",
          "name": "stdout",
          "text": [
            "Enter password: 3\n",
            "Denied\n"
          ]
        }
      ]
    },
    {
      "cell_type": "code",
      "source": [
        "a, b = True, False\n",
        "print(\"AND:\", a and b)\n",
        "print(\"OR :\", a or b)\n",
        "print(\"NOT:\", not a)\n"
      ],
      "metadata": {
        "colab": {
          "base_uri": "https://localhost:8080/"
        },
        "id": "gQ36QfJydL-b",
        "outputId": "1f6de603-351b-4b76-f930-52cb471918ae"
      },
      "execution_count": 19,
      "outputs": [
        {
          "output_type": "stream",
          "name": "stdout",
          "text": [
            "AND: False\n",
            "OR : True\n",
            "NOT: False\n"
          ]
        }
      ]
    },
    {
      "cell_type": "code",
      "source": [
        "# Demo 5 : String manipulation\n",
        "text = \" Python  \"\n",
        "print(text.strip().upper())            # remove spaces, uppercase\n",
        "print(text.replace(\"Py\", \"My\"))        # replace substring\n"
      ],
      "metadata": {
        "colab": {
          "base_uri": "https://localhost:8080/"
        },
        "id": "dE-c1LO8eVP5",
        "outputId": "028033b1-67cd-482b-ec76-f5ced5f13405"
      },
      "execution_count": 20,
      "outputs": [
        {
          "output_type": "stream",
          "name": "stdout",
          "text": [
            "PYTHON\n",
            " Mython  \n"
          ]
        }
      ]
    },
    {
      "cell_type": "code",
      "source": [
        "word = \"Education\"\n",
        "vowels = [c for c in word.lower() if c in \"aeiou\"]\n",
        "print(\"Vowel count:\", len(vowels))\n"
      ],
      "metadata": {
        "colab": {
          "base_uri": "https://localhost:8080/"
        },
        "id": "Sfzn7TF6eisP",
        "outputId": "8f27dc06-f392-4001-db6f-20b5347e9d72"
      },
      "execution_count": 21,
      "outputs": [
        {
          "output_type": "stream",
          "name": "stdout",
          "text": [
            "Vowel count: 5\n"
          ]
        }
      ]
    },
    {
      "cell_type": "code",
      "source": [
        "sentence = \"I love Python\"\n",
        "print(\" \".join(sentence.split()[::-1]))\n"
      ],
      "metadata": {
        "colab": {
          "base_uri": "https://localhost:8080/"
        },
        "id": "TNwAQPL7ejwD",
        "outputId": "671f9c60-30c6-49f8-85c7-5b46a632635d"
      },
      "execution_count": 22,
      "outputs": [
        {
          "output_type": "stream",
          "name": "stdout",
          "text": [
            "Python love I\n"
          ]
        }
      ]
    },
    {
      "cell_type": "code",
      "source": [
        "email = \"ta2021@gmail.com\"\n",
        "user, domain = email.split(\"@\")\n",
        "print(\"User :\", user, \"| Domain :\", domain)\n"
      ],
      "metadata": {
        "colab": {
          "base_uri": "https://localhost:8080/"
        },
        "id": "OF_rXFcYekoi",
        "outputId": "76d0f225-fc2a-4b2d-ab29-2b03ead29689"
      },
      "execution_count": 23,
      "outputs": [
        {
          "output_type": "stream",
          "name": "stdout",
          "text": [
            "User : ta2021 | Domain : gmail.com\n"
          ]
        }
      ]
    },
    {
      "cell_type": "code",
      "source": [
        "# Demo 6 : List basics\n",
        "nums = [10, 20, 30]\n",
        "nums.append(40)              # add\n",
        "nums[1] = 25                 # modify\n",
        "print(nums, \"length =\", len(nums))\n"
      ],
      "metadata": {
        "colab": {
          "base_uri": "https://localhost:8080/"
        },
        "id": "7GYXXdrVel3m",
        "outputId": "e65afd78-6ea5-45db-ecaa-77179648004f"
      },
      "execution_count": 24,
      "outputs": [
        {
          "output_type": "stream",
          "name": "stdout",
          "text": [
            "[10, 25, 30, 40] length = 4\n"
          ]
        }
      ]
    },
    {
      "cell_type": "code",
      "source": [
        "scores = [70, 85, 90, 60]\n",
        "print(\"Sum:\", sum(scores), \"| Avg:\", sum(scores)/len(scores))\n"
      ],
      "metadata": {
        "colab": {
          "base_uri": "https://localhost:8080/"
        },
        "id": "JC3IgR0qenNF",
        "outputId": "cdde6a73-c366-4611-e502-4e1fe5e57269"
      },
      "execution_count": 25,
      "outputs": [
        {
          "output_type": "stream",
          "name": "stdout",
          "text": [
            "Sum: 305 | Avg: 76.25\n"
          ]
        }
      ]
    },
    {
      "cell_type": "code",
      "source": [
        "sample = [0,1,2,3,4,5]\n",
        "print(\"first three:\", sample[:3])\n",
        "print(\"odd index  :\", sample[1::2])\n"
      ],
      "metadata": {
        "colab": {
          "base_uri": "https://localhost:8080/"
        },
        "id": "FuzgpalCeoDi",
        "outputId": "5e19b438-64af-4bfa-98ac-70878efebec9"
      },
      "execution_count": 26,
      "outputs": [
        {
          "output_type": "stream",
          "name": "stdout",
          "text": [
            "first three: [0, 1, 2]\n",
            "odd index  : [1, 3, 5]\n"
          ]
        }
      ]
    },
    {
      "cell_type": "code",
      "source": [
        "prod = 1\n",
        "for n in [2,3,4]:\n",
        "    prod *= n\n",
        "print(\"Product =\", prod)\n"
      ],
      "metadata": {
        "colab": {
          "base_uri": "https://localhost:8080/"
        },
        "id": "iDzHA_f7epSQ",
        "outputId": "ca757bc9-24a6-4405-9d20-1838c8db0aa0"
      },
      "execution_count": 27,
      "outputs": [
        {
          "output_type": "stream",
          "name": "stdout",
          "text": [
            "Product = 24\n"
          ]
        }
      ]
    },
    {
      "cell_type": "code",
      "source": [
        "# Demo 7 : for-loop with range\n",
        "for i in range(1, 6, 1):\n",
        "    print(\"★\" * i)\n"
      ],
      "metadata": {
        "colab": {
          "base_uri": "https://localhost:8080/"
        },
        "id": "dwqu6r6oeqUv",
        "outputId": "5ff9731f-5367-4911-8b2a-21c404baef96"
      },
      "execution_count": 29,
      "outputs": [
        {
          "output_type": "stream",
          "name": "stdout",
          "text": [
            "★\n",
            "★★\n",
            "★★★\n",
            "★★★★\n",
            "★★★★★\n"
          ]
        }
      ]
    },
    {
      "cell_type": "code",
      "source": [
        "for i in range(1,10):\n",
        "    for j in range(1,10):\n",
        "        print(f\"{i*j:2}\", end=\" \")\n",
        "    print()\n"
      ],
      "metadata": {
        "colab": {
          "base_uri": "https://localhost:8080/"
        },
        "id": "yEeajC1HevgQ",
        "outputId": "5c1e53bd-30fd-44d4-db2e-d3519f2a3867"
      },
      "execution_count": 30,
      "outputs": [
        {
          "output_type": "stream",
          "name": "stdout",
          "text": [
            " 1  2  3  4  5  6  7  8  9 \n",
            " 2  4  6  8 10 12 14 16 18 \n",
            " 3  6  9 12 15 18 21 24 27 \n",
            " 4  8 12 16 20 24 28 32 36 \n",
            " 5 10 15 20 25 30 35 40 45 \n",
            " 6 12 18 24 30 36 42 48 54 \n",
            " 7 14 21 28 35 42 49 56 63 \n",
            " 8 16 24 32 40 48 56 64 72 \n",
            " 9 18 27 36 45 54 63 72 81 \n"
          ]
        }
      ]
    },
    {
      "cell_type": "code",
      "source": [
        "squares = [n**2 for n in range(1,11)]\n",
        "print(squares)\n"
      ],
      "metadata": {
        "colab": {
          "base_uri": "https://localhost:8080/"
        },
        "id": "L1vkfw_cewyV",
        "outputId": "4bbcd827-f6cf-421c-93af-18b7c4374473"
      },
      "execution_count": 31,
      "outputs": [
        {
          "output_type": "stream",
          "name": "stdout",
          "text": [
            "[1, 4, 9, 16, 25, 36, 49, 64, 81, 100]\n"
          ]
        }
      ]
    },
    {
      "cell_type": "code",
      "source": [
        "for n in range(1,10):\n",
        "    if n % 2 == 0:\n",
        "        continue\n",
        "    print(n)\n"
      ],
      "metadata": {
        "colab": {
          "base_uri": "https://localhost:8080/"
        },
        "id": "jle5KsZNexmB",
        "outputId": "f2e95ca6-1774-42bc-ebe5-61860a172e7b"
      },
      "execution_count": 32,
      "outputs": [
        {
          "output_type": "stream",
          "name": "stdout",
          "text": [
            "1\n",
            "3\n",
            "5\n",
            "7\n",
            "9\n"
          ]
        }
      ]
    },
    {
      "cell_type": "code",
      "source": [
        "# Demo 8 : Define & use a function\n",
        "def greet(name=\"Student\"):          # default arg\n",
        "    \"\"\"Print a friendly greeting.\"\"\"\n",
        "    print(\"Hello,\", name)\n",
        "greet()\n",
        "greet(\"EduTeam\")\n"
      ],
      "metadata": {
        "colab": {
          "base_uri": "https://localhost:8080/"
        },
        "id": "vj5b7JnxezBg",
        "outputId": "c89045d7-3746-411e-9a85-65f02c0c78e8"
      },
      "execution_count": 33,
      "outputs": [
        {
          "output_type": "stream",
          "name": "stdout",
          "text": [
            "Hello, Student\n",
            "Hello, EduTeam\n"
          ]
        }
      ]
    },
    {
      "cell_type": "code",
      "source": [
        "def f2c(f): return (f-32)*5/9\n",
        "print(f2c(100))\n"
      ],
      "metadata": {
        "colab": {
          "base_uri": "https://localhost:8080/"
        },
        "id": "5hW0kPFMezxK",
        "outputId": "9caaea38-63dc-45fa-e5f9-db282217636a"
      },
      "execution_count": 34,
      "outputs": [
        {
          "output_type": "stream",
          "name": "stdout",
          "text": [
            "37.77777777777778\n"
          ]
        }
      ]
    },
    {
      "cell_type": "code",
      "source": [
        "def max3(a,b,c):\n",
        "    return max(a,b,c)\n",
        "print(max3(3,8,5))\n"
      ],
      "metadata": {
        "colab": {
          "base_uri": "https://localhost:8080/"
        },
        "id": "RoNinHD9e030",
        "outputId": "cd77c6fc-5178-46eb-9cd1-5882e1140bdf"
      },
      "execution_count": 35,
      "outputs": [
        {
          "output_type": "stream",
          "name": "stdout",
          "text": [
            "8\n"
          ]
        }
      ]
    },
    {
      "cell_type": "code",
      "source": [
        "def is_prime(n):\n",
        "    if n<2: return False\n",
        "    for i in range(2,int(n**0.5)+1):\n",
        "        if n%i==0: return False\n",
        "    return True\n",
        "print(is_prime(17))\n"
      ],
      "metadata": {
        "colab": {
          "base_uri": "https://localhost:8080/"
        },
        "id": "aLPS5O-9e1y3",
        "outputId": "0bddaffe-8147-4de5-ab98-f1300f007b20"
      },
      "execution_count": 36,
      "outputs": [
        {
          "output_type": "stream",
          "name": "stdout",
          "text": [
            "True\n"
          ]
        }
      ]
    },
    {
      "cell_type": "code",
      "source": [
        "# Demo 9 : Simple class\n",
        "class BankAccount:\n",
        "    \"\"\"A minimal bank account.\"\"\"\n",
        "    def __init__(self, owner, balance=0):\n",
        "        self.owner = owner\n",
        "        self.balance = balance\n",
        "    def deposit(self, amount):\n",
        "        self.balance += amount\n",
        "    def __str__(self):\n",
        "        return f\"{self.owner}: ${self.balance}\"\n",
        "\n",
        "# Test Start\n",
        "acct = BankAccount(\"Alice\", 100)\n",
        "acct.deposit(50)\n",
        "print(acct)\n",
        "# EduTeam\n",
        "acct = BankAccount(\"EduTeam\", 2025)\n",
        "acct.deposit(1000)\n",
        "print(acct)\n",
        "# Your English Name\n",
        "acct = BankAccount(\"Eric\")\n",
        "acct.deposit(1)\n",
        "print(acct)"
      ],
      "metadata": {
        "colab": {
          "base_uri": "https://localhost:8080/"
        },
        "id": "VA8MPujxe38j",
        "outputId": "af5f8809-51aa-485e-e460-bf5f70ccf3fd"
      },
      "execution_count": 37,
      "outputs": [
        {
          "output_type": "stream",
          "name": "stdout",
          "text": [
            "Alice: $150\n",
            "EduTeam: $3025\n",
            "Eric: $1\n"
          ]
        }
      ]
    },
    {
      "cell_type": "code",
      "source": [
        "class Student:\n",
        "    def __init__(self, name, grade):\n",
        "        self.name = name; self.grade = grade\n",
        "    def info(self):\n",
        "        print(f\"{self.name} has grade {self.grade}\")\n",
        "\n",
        "\n",
        "s = Student(\"Tom\", 88)\n",
        "s.info()\n"
      ],
      "metadata": {
        "colab": {
          "base_uri": "https://localhost:8080/"
        },
        "id": "1FQNCuvOe4tK",
        "outputId": "4b11694a-3909-4e85-e82d-f9c0bb3a8dfd"
      },
      "execution_count": 38,
      "outputs": [
        {
          "output_type": "stream",
          "name": "stdout",
          "text": [
            "Tom has grade 88\n"
          ]
        }
      ]
    },
    {
      "cell_type": "code",
      "source": [
        "class Rect:\n",
        "    def __init__(self,w,h):\n",
        "        self.w=w; self.h=h\n",
        "    def area(self):\n",
        "        return self.w*self.h\n",
        "\n",
        "print(Rect(3,4).area())\n"
      ],
      "metadata": {
        "colab": {
          "base_uri": "https://localhost:8080/"
        },
        "id": "TFU_vTiAfDB7",
        "outputId": "f85f3e0b-ccd1-4c8e-f4ba-61d53329ea95"
      },
      "execution_count": 42,
      "outputs": [
        {
          "output_type": "stream",
          "name": "stdout",
          "text": [
            "12\n"
          ]
        }
      ]
    },
    {
      "cell_type": "code",
      "source": [
        "class Car:\n",
        "    def honk(self):\n",
        "        print(\"Beep!\")\n",
        "\n",
        "Car().honk()\n"
      ],
      "metadata": {
        "colab": {
          "base_uri": "https://localhost:8080/"
        },
        "id": "yRIzKZQTfEL2",
        "outputId": "2b5d32be-600a-472d-a146-f38bad939fe3"
      },
      "execution_count": 43,
      "outputs": [
        {
          "output_type": "stream",
          "name": "stdout",
          "text": [
            "Beep!\n"
          ]
        }
      ]
    },
    {
      "cell_type": "code",
      "source": [
        "# Demo 10 : Line and scatter plot\n",
        "import numpy as np, matplotlib.pyplot as plt\n",
        "x = np.linspace(0, 2*np.pi, 100)\n",
        "plt.plot(x, np.sin(x), label=\"sin\")\n",
        "plt.scatter(x[::10], np.sin(x[::10]), color=\"red\", label=\"points\")\n",
        "plt.legend(); plt.title(\"Sine Curve\"); plt.show()\n"
      ],
      "metadata": {
        "colab": {
          "base_uri": "https://localhost:8080/",
          "height": 452
        },
        "id": "W7p7dwY2fF6D",
        "outputId": "7ef1e10b-1495-4e60-b6f1-c0aceda02559"
      },
      "execution_count": 44,
      "outputs": [
        {
          "output_type": "display_data",
          "data": {
            "text/plain": [
              "<Figure size 640x480 with 1 Axes>"
            ],
            "image/png": "[encoded data removed]"
          },
          "metadata": {}
        }
      ]
    },
    {
      "cell_type": "code",
      "source": [
        "data = np.random.randn(500)\n",
        "plt.hist(data, bins=20, color=\"skyblue\")\n",
        "plt.title(\"Histogram\"); plt.show()\n"
      ],
      "metadata": {
        "colab": {
          "base_uri": "https://localhost:8080/",
          "height": 452
        },
        "id": "k1HhVrL5fIEq",
        "outputId": "5cb1bba7-8708-42e8-ebe0-43144a62db05"
      },
      "execution_count": 45,
      "outputs": [
        {
          "output_type": "display_data",
          "data": {
            "text/plain": [
              "<Figure size 640x480 with 1 Axes>"
            ],
            "image/png": "[encoded data removed]"
          },
          "metadata": {}
        }
      ]
    },
    {
      "cell_type": "code",
      "source": [
        "fig, ax = plt.subplots(1,3, figsize=(6,3))\n",
        "ax[0].plot(x, np.cos(x)); ax[0].set_title(\"cos\")\n",
        "ax[1].plot(x, np.tan(x)); ax[1].set_title(\"tan\")\n",
        "ax[2].plot(x, np.sin(x)); ax[2].set_title(\"sin\")\n",
        "plt.tight_layout(); plt.show()\n"
      ],
      "metadata": {
        "colab": {
          "base_uri": "https://localhost:8080/",
          "height": 307
        },
        "id": "1n34kzTOfJxc",
        "outputId": "462fecf2-2ae6-4be4-e404-e2e280c63107"
      },
      "execution_count": 46,
      "outputs": [
        {
          "output_type": "display_data",
          "data": {
            "text/plain": [
              "<Figure size 600x300 with 3 Axes>"
            ],
            "image/png": "[encoded data removed]"
          },
          "metadata": {}
        }
      ]
    },
    {
      "cell_type": "code",
      "source": [
        "# Please revise the following code to acheve the output result by Your English Name.\n",
        "plt.plot(x, np.sin(2*x))\n",
        "plt.title(\"sin 2x\")\n",
        "plt.savefig(\"sin2x_20250507.png\")          # saved in /content\n",
        "print(\"File saved!\")\n",
        "\n",
        "!ls -lrt"
      ],
      "metadata": {
        "colab": {
          "base_uri": "https://localhost:8080/",
          "height": 556
        },
        "id": "DLXY6RzGfZFN",
        "outputId": "1b4b27be-d82d-40b3-e1f9-585b781af2d0"
      },
      "execution_count": 47,
      "outputs": [
        {
          "output_type": "stream",
          "name": "stdout",
          "text": [
            "File saved!\n",
            "total 56\n",
            "drwxr-xr-x 1 root root  4096 May 14 13:38 sample_data\n",
            "-rw-r--r-- 1 root root   361 May 27 06:35 types_demo.c\n",
            "-rwxr-xr-x 1 root root 16016 May 27 06:35 types_demo\n",
            "-rw-r--r-- 1 root root 29016 May 27 06:45 sin2x_20250507.png\n"
          ]
        },
        {
          "output_type": "display_data",
          "data": {
            "text/plain": [
              "<Figure size 640x480 with 1 Axes>"
            ],
            "image/png": "[encoded data removed]"
          },
          "metadata": {}
        }
      ]
    }
  ]
}